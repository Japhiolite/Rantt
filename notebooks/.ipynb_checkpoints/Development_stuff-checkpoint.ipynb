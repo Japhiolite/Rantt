{
 "cells": [
  {
   "cell_type": "markdown",
   "metadata": {},
   "source": [
    "# Create a Gantt Chart\n",
    "This small notebook shows how to use the Rantt class for creating a Gantt Chart. "
   ]
  },
  {
   "cell_type": "code",
   "execution_count": 1,
   "metadata": {},
   "outputs": [],
   "source": [
    "# These two lines are necessary if Rantt is not installed\n",
    "# i.e. for navigating to the rantt.py file\n",
    "import sys\n",
    "sys.path.append(\"../\")\n",
    "\n",
    "import rantt\n",
    "%matplotlib inline\n",
    "import matplotlib.pyplot as plt\n",
    "import matplotlib.patches as mpatches"
   ]
  },
  {
   "cell_type": "code",
   "execution_count": 6,
   "metadata": {},
   "outputs": [],
   "source": [
    "# Load the csv File\n",
    "inp = rantt.Gantt_chart('../activities.csv',colorstyle='viridis')"
   ]
  },
  {
   "cell_type": "code",
   "execution_count": 7,
   "metadata": {},
   "outputs": [
    {
     "data": {
      "text/html": [
       "<div>\n",
       "<style scoped>\n",
       "    .dataframe tbody tr th:only-of-type {\n",
       "        vertical-align: middle;\n",
       "    }\n",
       "\n",
       "    .dataframe tbody tr th {\n",
       "        vertical-align: top;\n",
       "    }\n",
       "\n",
       "    .dataframe thead th {\n",
       "        text-align: right;\n",
       "    }\n",
       "</style>\n",
       "<table border=\"1\" class=\"dataframe\">\n",
       "  <thead>\n",
       "    <tr style=\"text-align: right;\">\n",
       "      <th></th>\n",
       "      <th>workstream</th>\n",
       "      <th>activity</th>\n",
       "      <th>start date</th>\n",
       "      <th>end date</th>\n",
       "      <th>milestone</th>\n",
       "      <th>deliverable</th>\n",
       "      <th>dependency</th>\n",
       "    </tr>\n",
       "  </thead>\n",
       "  <tbody>\n",
       "    <tr>\n",
       "      <th>0</th>\n",
       "      <td>WP1</td>\n",
       "      <td>Draft Proposal</td>\n",
       "      <td>2019-01-15</td>\n",
       "      <td>2019-03-01</td>\n",
       "      <td>2019-03-01</td>\n",
       "      <td>NaN</td>\n",
       "      <td>NaN</td>\n",
       "    </tr>\n",
       "    <tr>\n",
       "      <th>1</th>\n",
       "      <td>WP1</td>\n",
       "      <td>Proofread</td>\n",
       "      <td>2019-02-15</td>\n",
       "      <td>2019-02-22</td>\n",
       "      <td>NaN</td>\n",
       "      <td>NaN</td>\n",
       "      <td>Draft Proposal</td>\n",
       "    </tr>\n",
       "    <tr>\n",
       "      <th>2</th>\n",
       "      <td>WP2</td>\n",
       "      <td>Design data model</td>\n",
       "      <td>2019-03-01</td>\n",
       "      <td>2019-03-15</td>\n",
       "      <td>2019-03-15</td>\n",
       "      <td>2019-03-15</td>\n",
       "      <td>NaN</td>\n",
       "    </tr>\n",
       "    <tr>\n",
       "      <th>3</th>\n",
       "      <td>WP2</td>\n",
       "      <td>Set up data base</td>\n",
       "      <td>2019-03-15</td>\n",
       "      <td>2019-04-01</td>\n",
       "      <td>NaN</td>\n",
       "      <td>NaN</td>\n",
       "      <td>Design data model</td>\n",
       "    </tr>\n",
       "    <tr>\n",
       "      <th>4</th>\n",
       "      <td>WP2</td>\n",
       "      <td>Implement data model</td>\n",
       "      <td>2019-04-01</td>\n",
       "      <td>2019-05-01</td>\n",
       "      <td>2019-05-01</td>\n",
       "      <td>NaN</td>\n",
       "      <td>Set up data base</td>\n",
       "    </tr>\n",
       "  </tbody>\n",
       "</table>\n",
       "</div>"
      ],
      "text/plain": [
       "  workstream              activity  start date    end date   milestone  \\\n",
       "0        WP1        Draft Proposal  2019-01-15  2019-03-01  2019-03-01   \n",
       "1        WP1             Proofread  2019-02-15  2019-02-22         NaN   \n",
       "2        WP2     Design data model  2019-03-01  2019-03-15  2019-03-15   \n",
       "3        WP2      Set up data base  2019-03-15  2019-04-01         NaN   \n",
       "4        WP2  Implement data model  2019-04-01  2019-05-01  2019-05-01   \n",
       "\n",
       "  deliverable         dependency  \n",
       "0         NaN                NaN  \n",
       "1         NaN     Draft Proposal  \n",
       "2  2019-03-15                NaN  \n",
       "3         NaN  Design data model  \n",
       "4         NaN   Set up data base  "
      ]
     },
     "execution_count": 7,
     "metadata": {},
     "output_type": "execute_result"
    }
   ],
   "source": [
    "# Present the table form or the Gantt Chart\n",
    "inp.showCSV()"
   ]
  },
  {
   "cell_type": "code",
   "execution_count": 9,
   "metadata": {
    "scrolled": false
   },
   "outputs": [
    {
     "name": "stderr",
     "output_type": "stream",
     "text": [
      "/anaconda3/lib/python3.6/site-packages/matplotlib/patches.py:2904: RuntimeWarning: divide by zero encountered in double_scalars\n",
      "  f2 = self.rad / d2\n",
      "/anaconda3/lib/python3.6/site-packages/matplotlib/patches.py:2907: RuntimeWarning: invalid value encountered in double_scalars\n",
      "  (cx + dx2 * f2, cy + dy2 * f2)])\n"
     ]
    },
    {
     "data": {
      "image/png": "[encoded data removed]",
      "text/plain": [
       "<Figure size 2000x1000 with 1 Axes>"
      ]
     },
     "metadata": {},
     "output_type": "display_data"
    }
   ],
   "source": [
    "%matplotlib inline\n",
    "# Plot the Gantt Chart\n",
    "inp.preparePlot()\n",
    "inp.save('../imgs/gantt_chart_viridis.png')"
   ]
  },
  {
   "cell_type": "markdown",
   "metadata": {},
   "source": [
    "------------------------------------------------"
   ]
  },
  {
   "cell_type": "markdown",
   "metadata": {},
   "source": [
    "## Analogue dependency programming"
   ]
  },
  {
   "cell_type": "code",
   "execution_count": 21,
   "metadata": {},
   "outputs": [
    {
     "data": {
      "text/html": [
       "<div>\n",
       "<style scoped>\n",
       "    .dataframe tbody tr th:only-of-type {\n",
       "        vertical-align: middle;\n",
       "    }\n",
       "\n",
       "    .dataframe tbody tr th {\n",
       "        vertical-align: top;\n",
       "    }\n",
       "\n",
       "    .dataframe thead th {\n",
       "        text-align: right;\n",
       "    }\n",
       "</style>\n",
       "<table border=\"1\" class=\"dataframe\">\n",
       "  <thead>\n",
       "    <tr style=\"text-align: right;\">\n",
       "      <th></th>\n",
       "      <th>Workstream</th>\n",
       "      <th>Activity</th>\n",
       "      <th>Start Date</th>\n",
       "      <th>End Date</th>\n",
       "      <th>Milestone</th>\n",
       "      <th>Deliverable</th>\n",
       "      <th>Dependency</th>\n",
       "    </tr>\n",
       "  </thead>\n",
       "  <tbody>\n",
       "    <tr>\n",
       "      <th>0</th>\n",
       "      <td>WP1</td>\n",
       "      <td>Draft Proposal</td>\n",
       "      <td>2019-01-15</td>\n",
       "      <td>2019-03-01</td>\n",
       "      <td>2019-03-01</td>\n",
       "      <td>NaN</td>\n",
       "      <td>NaN</td>\n",
       "    </tr>\n",
       "    <tr>\n",
       "      <th>1</th>\n",
       "      <td>WP1</td>\n",
       "      <td>Proofread</td>\n",
       "      <td>2019-02-15</td>\n",
       "      <td>2019-02-22</td>\n",
       "      <td>NaN</td>\n",
       "      <td>NaN</td>\n",
       "      <td>Draft Proposal</td>\n",
       "    </tr>\n",
       "    <tr>\n",
       "      <th>2</th>\n",
       "      <td>WP2</td>\n",
       "      <td>Design data model</td>\n",
       "      <td>2019-03-01</td>\n",
       "      <td>2019-03-15</td>\n",
       "      <td>2019-03-15</td>\n",
       "      <td>2019-03-15</td>\n",
       "      <td>NaN</td>\n",
       "    </tr>\n",
       "    <tr>\n",
       "      <th>3</th>\n",
       "      <td>WP2</td>\n",
       "      <td>Set up data base</td>\n",
       "      <td>2019-03-15</td>\n",
       "      <td>2019-04-01</td>\n",
       "      <td>NaN</td>\n",
       "      <td>NaN</td>\n",
       "      <td>Design data model</td>\n",
       "    </tr>\n",
       "    <tr>\n",
       "      <th>4</th>\n",
       "      <td>WP2</td>\n",
       "      <td>Implement data model</td>\n",
       "      <td>2019-04-01</td>\n",
       "      <td>2019-05-01</td>\n",
       "      <td>2019-05-01</td>\n",
       "      <td>NaN</td>\n",
       "      <td>Set up data base</td>\n",
       "    </tr>\n",
       "    <tr>\n",
       "      <th>5</th>\n",
       "      <td>WP3</td>\n",
       "      <td>Prepare kick-off meeting</td>\n",
       "      <td>2019-02-01</td>\n",
       "      <td>2019-02-10</td>\n",
       "      <td>NaN</td>\n",
       "      <td>NaN</td>\n",
       "      <td>NaN</td>\n",
       "    </tr>\n",
       "  </tbody>\n",
       "</table>\n",
       "</div>"
      ],
      "text/plain": [
       "  Workstream                  Activity  Start Date    End Date   Milestone  \\\n",
       "0        WP1            Draft Proposal  2019-01-15  2019-03-01  2019-03-01   \n",
       "1        WP1                 Proofread  2019-02-15  2019-02-22         NaN   \n",
       "2        WP2         Design data model  2019-03-01  2019-03-15  2019-03-15   \n",
       "3        WP2          Set up data base  2019-03-15  2019-04-01         NaN   \n",
       "4        WP2      Implement data model  2019-04-01  2019-05-01  2019-05-01   \n",
       "5        WP3  Prepare kick-off meeting  2019-02-01  2019-02-10         NaN   \n",
       "\n",
       "  Deliverable         Dependency  \n",
       "0         NaN                NaN  \n",
       "1         NaN     Draft Proposal  \n",
       "2  2019-03-15                NaN  \n",
       "3         NaN  Design data model  \n",
       "4         NaN   Set up data base  \n",
       "5         NaN                NaN  "
      ]
     },
     "execution_count": 21,
     "metadata": {},
     "output_type": "execute_result"
    }
   ],
   "source": [
    "import pandas as pd\n",
    "dd = pd.read_csv('../activities.csv')\n",
    "dd"
   ]
  },
  {
   "cell_type": "code",
   "execution_count": 22,
   "metadata": {},
   "outputs": [],
   "source": [
    "dep = dd.Dependency.notnull()"
   ]
  },
  {
   "cell_type": "code",
   "execution_count": 23,
   "metadata": {},
   "outputs": [
    {
     "data": {
      "text/plain": [
       "1       Draft Proposal\n",
       "3    Design data model\n",
       "4     Set up data base\n",
       "Name: Dependency, dtype: object"
      ]
     },
     "execution_count": 23,
     "metadata": {},
     "output_type": "execute_result"
    }
   ],
   "source": [
    "# xtails are the depending tasks\n",
    "xtails = dd.Dependency[dep]\n",
    "xtails"
   ]
  },
  {
   "cell_type": "code",
   "execution_count": 24,
   "metadata": {},
   "outputs": [],
   "source": [
    "ytails = np.linspace(1,5,len(xtails))"
   ]
  },
  {
   "cell_type": "code",
   "execution_count": 25,
   "metadata": {},
   "outputs": [],
   "source": [
    "test = [dd.Activity.loc[dd.Activity == i] for i in xtails.values]"
   ]
  },
  {
   "cell_type": "code",
   "execution_count": 26,
   "metadata": {},
   "outputs": [],
   "source": [
    "idx = np.array([test[i].index.values[0] for i in range(len(test))])"
   ]
  },
  {
   "cell_type": "code",
   "execution_count": 27,
   "metadata": {},
   "outputs": [
    {
     "data": {
      "text/plain": [
       "0       Draft Proposal\n",
       "2    Design data model\n",
       "3     Set up data base\n",
       "Name: Activity, dtype: object"
      ]
     },
     "execution_count": 27,
     "metadata": {},
     "output_type": "execute_result"
    }
   ],
   "source": [
    "# xhead are the tasks which is \"depended\" on\n",
    "xhead = dd.Activity[idx]\n",
    "yhead = np.linspace(0,4,len(xtails))\n",
    "xhead"
   ]
  },
  {
   "cell_type": "code",
   "execution_count": 28,
   "metadata": {},
   "outputs": [
    {
     "data": {
      "text/plain": [
       "1               Proofread\n",
       "3        Set up data base\n",
       "4    Implement data model\n",
       "Name: Activity, dtype: object"
      ]
     },
     "execution_count": 28,
     "metadata": {},
     "output_type": "execute_result"
    }
   ],
   "source": [
    "dd.Activity.loc[dep]"
   ]
  },
  {
   "cell_type": "code",
   "execution_count": 29,
   "metadata": {},
   "outputs": [
    {
     "data": {
      "text/html": [
       "<div>\n",
       "<style scoped>\n",
       "    .dataframe tbody tr th:only-of-type {\n",
       "        vertical-align: middle;\n",
       "    }\n",
       "\n",
       "    .dataframe tbody tr th {\n",
       "        vertical-align: top;\n",
       "    }\n",
       "\n",
       "    .dataframe thead th {\n",
       "        text-align: right;\n",
       "    }\n",
       "</style>\n",
       "<table border=\"1\" class=\"dataframe\">\n",
       "  <thead>\n",
       "    <tr style=\"text-align: right;\">\n",
       "      <th></th>\n",
       "      <th>Workstream</th>\n",
       "      <th>Activity</th>\n",
       "      <th>Start Date</th>\n",
       "      <th>End Date</th>\n",
       "      <th>Milestone</th>\n",
       "      <th>Deliverable</th>\n",
       "      <th>Dependency</th>\n",
       "    </tr>\n",
       "  </thead>\n",
       "  <tbody>\n",
       "    <tr>\n",
       "      <th>1</th>\n",
       "      <td>WP1</td>\n",
       "      <td>Proofread</td>\n",
       "      <td>2019-02-15</td>\n",
       "      <td>2019-02-22</td>\n",
       "      <td>NaN</td>\n",
       "      <td>NaN</td>\n",
       "      <td>Draft Proposal</td>\n",
       "    </tr>\n",
       "    <tr>\n",
       "      <th>3</th>\n",
       "      <td>WP2</td>\n",
       "      <td>Set up data base</td>\n",
       "      <td>2019-03-15</td>\n",
       "      <td>2019-04-01</td>\n",
       "      <td>NaN</td>\n",
       "      <td>NaN</td>\n",
       "      <td>Design data model</td>\n",
       "    </tr>\n",
       "    <tr>\n",
       "      <th>4</th>\n",
       "      <td>WP2</td>\n",
       "      <td>Implement data model</td>\n",
       "      <td>2019-04-01</td>\n",
       "      <td>2019-05-01</td>\n",
       "      <td>2019-05-01</td>\n",
       "      <td>NaN</td>\n",
       "      <td>Set up data base</td>\n",
       "    </tr>\n",
       "  </tbody>\n",
       "</table>\n",
       "</div>"
      ],
      "text/plain": [
       "  Workstream              Activity  Start Date    End Date   Milestone  \\\n",
       "1        WP1             Proofread  2019-02-15  2019-02-22         NaN   \n",
       "3        WP2      Set up data base  2019-03-15  2019-04-01         NaN   \n",
       "4        WP2  Implement data model  2019-04-01  2019-05-01  2019-05-01   \n",
       "\n",
       "  Deliverable         Dependency  \n",
       "1         NaN     Draft Proposal  \n",
       "3         NaN  Design data model  \n",
       "4         NaN   Set up data base  "
      ]
     },
     "execution_count": 29,
     "metadata": {},
     "output_type": "execute_result"
    }
   ],
   "source": [
    "dd.query(\"Dependency in Activity\")"
   ]
  },
  {
   "cell_type": "code",
   "execution_count": 30,
   "metadata": {},
   "outputs": [
    {
     "name": "stdout",
     "output_type": "stream",
     "text": [
      "1    2019-02-22\n",
      "3    2019-04-01\n",
      "4    2019-05-01\n",
      "Name: End Date, dtype: object\n",
      "0    2019-01-15\n",
      "2    2019-03-01\n",
      "3    2019-03-15\n",
      "Name: Start Date, dtype: object\n"
     ]
    }
   ],
   "source": [
    "print(dd['End Date'][xtails.index])\n",
    "print(dd['Start Date'][xhead.index])"
   ]
  },
  {
   "cell_type": "code",
   "execution_count": 32,
   "metadata": {},
   "outputs": [
    {
     "data": {
      "image/png": "[encoded data removed]",
      "text/plain": [
       "<Figure size 640x480 with 1 Axes>"
      ]
     },
     "metadata": {},
     "output_type": "display_data"
    }
   ],
   "source": [
    "# plot arrows\n",
    "csstyle=\"bar,angle=180,fraction=-0.2\"\n",
    "#plt.plot([dd['Start Date'][xhead.index], dd['End Date'][xtails.index]],\n",
    "#        [yhead, ytails])\n",
    "for i,j in enumerate(xtails.index):\n",
    "    \n",
    "    plt.plot([dd['End Date'][j], dd['Start Date'][j-1]],\n",
    "            [yhead[i], ytails[i]], \"ro\")\n",
    "    \n",
    "    plt.annotate(\"\", xy=(dd['End Date'][j], yhead[i]), xycoords='data',\n",
    "                xytext=(dd['Start Date'][j-1], ytails[i]), textcoords='data',\n",
    "                arrowprops=dict(arrowstyle=\"->\", color=\"0.4\",\n",
    "                                    shrinkA=5, shrinkB=5, patchA=None,\n",
    "                                    patchB=None, connectionstyle=csstyle))"
   ]
  },
  {
   "cell_type": "code",
   "execution_count": 33,
   "metadata": {},
   "outputs": [
    {
     "data": {
      "image/png": "[encoded data removed]",
      "text/plain": [
       "<Figure size 640x480 with 1 Axes>"
      ]
     },
     "metadata": {},
     "output_type": "display_data"
    }
   ],
   "source": [
    "# plot arrows 2\n",
    "csstyle=\"bar,angle=180,fraction=-0.2\"\n",
    "#plt.plot([dd['Start Date'][xhead.index], dd['End Date'][xtails.index]],\n",
    "#        [yhead, ytails])\n",
    "for i,j in enumerate(xtails.index):\n",
    "    \n",
    "    plt.plot([dd['Start Date'][j-1], dd['End Date'][j]],\n",
    "            [ytails[i], yhead[i]], \"ro\")\n",
    "    \n",
    "    plt.annotate(\"\", xy=(dd['Start Date'][j-1], ytails[i]), xycoords='data',\n",
    "                xytext=(dd['End Date'][j], yhead[i]), textcoords='data',\n",
    "                arrowprops=dict(arrowstyle=\"->\", color=\"0.4\",\n",
    "                                    shrinkA=5, shrinkB=5, patchA=None,\n",
    "                                    patchB=None, connectionstyle=csstyle))"
   ]
  },
  {
   "cell_type": "code",
   "execution_count": 34,
   "metadata": {},
   "outputs": [
    {
     "data": {
      "text/html": [
       "<div>\n",
       "<style scoped>\n",
       "    .dataframe tbody tr th:only-of-type {\n",
       "        vertical-align: middle;\n",
       "    }\n",
       "\n",
       "    .dataframe tbody tr th {\n",
       "        vertical-align: top;\n",
       "    }\n",
       "\n",
       "    .dataframe thead th {\n",
       "        text-align: right;\n",
       "    }\n",
       "</style>\n",
       "<table border=\"1\" class=\"dataframe\">\n",
       "  <thead>\n",
       "    <tr style=\"text-align: right;\">\n",
       "      <th></th>\n",
       "      <th>Workstream</th>\n",
       "      <th>Activity</th>\n",
       "      <th>Start Date</th>\n",
       "      <th>End Date</th>\n",
       "      <th>Milestone</th>\n",
       "      <th>Deliverable</th>\n",
       "      <th>Dependency</th>\n",
       "    </tr>\n",
       "  </thead>\n",
       "  <tbody>\n",
       "    <tr>\n",
       "      <th>0</th>\n",
       "      <td>WP1</td>\n",
       "      <td>Draft Proposal</td>\n",
       "      <td>2019-01-15</td>\n",
       "      <td>2019-03-01</td>\n",
       "      <td>2019-03-01</td>\n",
       "      <td>NaN</td>\n",
       "      <td>NaN</td>\n",
       "    </tr>\n",
       "    <tr>\n",
       "      <th>1</th>\n",
       "      <td>WP1</td>\n",
       "      <td>Proofread</td>\n",
       "      <td>2019-02-15</td>\n",
       "      <td>2019-02-22</td>\n",
       "      <td>NaN</td>\n",
       "      <td>NaN</td>\n",
       "      <td>Draft Proposal</td>\n",
       "    </tr>\n",
       "    <tr>\n",
       "      <th>2</th>\n",
       "      <td>WP2</td>\n",
       "      <td>Design data model</td>\n",
       "      <td>2019-03-01</td>\n",
       "      <td>2019-03-15</td>\n",
       "      <td>2019-03-15</td>\n",
       "      <td>2019-03-15</td>\n",
       "      <td>NaN</td>\n",
       "    </tr>\n",
       "    <tr>\n",
       "      <th>3</th>\n",
       "      <td>WP2</td>\n",
       "      <td>Set up data base</td>\n",
       "      <td>2019-03-15</td>\n",
       "      <td>2019-04-01</td>\n",
       "      <td>NaN</td>\n",
       "      <td>NaN</td>\n",
       "      <td>Design data model</td>\n",
       "    </tr>\n",
       "    <tr>\n",
       "      <th>4</th>\n",
       "      <td>WP2</td>\n",
       "      <td>Implement data model</td>\n",
       "      <td>2019-04-01</td>\n",
       "      <td>2019-05-01</td>\n",
       "      <td>2019-05-01</td>\n",
       "      <td>NaN</td>\n",
       "      <td>Set up data base</td>\n",
       "    </tr>\n",
       "    <tr>\n",
       "      <th>5</th>\n",
       "      <td>WP3</td>\n",
       "      <td>Prepare kick-off meeting</td>\n",
       "      <td>2019-02-01</td>\n",
       "      <td>2019-02-10</td>\n",
       "      <td>NaN</td>\n",
       "      <td>NaN</td>\n",
       "      <td>NaN</td>\n",
       "    </tr>\n",
       "  </tbody>\n",
       "</table>\n",
       "</div>"
      ],
      "text/plain": [
       "  Workstream                  Activity  Start Date    End Date   Milestone  \\\n",
       "0        WP1            Draft Proposal  2019-01-15  2019-03-01  2019-03-01   \n",
       "1        WP1                 Proofread  2019-02-15  2019-02-22         NaN   \n",
       "2        WP2         Design data model  2019-03-01  2019-03-15  2019-03-15   \n",
       "3        WP2          Set up data base  2019-03-15  2019-04-01         NaN   \n",
       "4        WP2      Implement data model  2019-04-01  2019-05-01  2019-05-01   \n",
       "5        WP3  Prepare kick-off meeting  2019-02-01  2019-02-10         NaN   \n",
       "\n",
       "  Deliverable         Dependency  \n",
       "0         NaN                NaN  \n",
       "1         NaN     Draft Proposal  \n",
       "2  2019-03-15                NaN  \n",
       "3         NaN  Design data model  \n",
       "4         NaN   Set up data base  \n",
       "5         NaN                NaN  "
      ]
     },
     "execution_count": 34,
     "metadata": {},
     "output_type": "execute_result"
    }
   ],
   "source": [
    "dd"
   ]
  },
  {
   "cell_type": "code",
   "execution_count": 35,
   "metadata": {},
   "outputs": [
    {
     "data": {
      "image/png": "[encoded data removed]",
      "text/plain": [
       "<Figure size 640x480 with 1 Axes>"
      ]
     },
     "metadata": {},
     "output_type": "display_data"
    }
   ],
   "source": [
    "# plot arrows 2\n",
    "csstyle=\"bar,angle=180,fraction=-0.2\"\n",
    "#plt.plot([dd['Start Date'][xhead.index], dd['End Date'][xtails.index]],\n",
    "#        [yhead, ytails])\n",
    "for i in range(len(xtails.index)):\n",
    "    \n",
    "    plt.plot([dd['Start Date'][xtails.index[i]],dd['End Date'][xhead.index[i]]],\n",
    "            [ytails[i],yhead[i]], \"ro\")\n",
    "    \n",
    "    plt.annotate(\"\", xy=(dd['End Date'][xhead.index[i]], yhead[i]), xycoords='data',\n",
    "                xytext=(dd['Start Date'][xtails.index[i]], ytails[i]), textcoords='data',\n",
    "                arrowprops=dict(arrowstyle=\"->\", color=\"0.4\",\n",
    "                                    shrinkA=5, shrinkB=5, patchA=None,\n",
    "                                    patchB=None, connectionstyle=csstyle))"
   ]
  },
  {
   "cell_type": "code",
   "execution_count": 19,
   "metadata": {},
   "outputs": [
    {
     "name": "stdout",
     "output_type": "stream",
     "text": [
      "0    2019-03-01\n",
      "2    2019-03-15\n",
      "3    2019-05-01\n",
      "Name: End Date, dtype: object\n",
      "1    2019-02-15\n",
      "3    2019-03-15\n",
      "4    2019-04-01\n",
      "Name: Start Date, dtype: object\n"
     ]
    }
   ],
   "source": [
    "print(dd['End Date'][xhead.index])\n",
    "print(dd['Start Date'][xtails.index])"
   ]
  }
 ],
 "metadata": {
  "hide_input": false,
  "kernelspec": {
   "display_name": "Python 3",
   "language": "python",
   "name": "python3"
  },
  "language_info": {
   "codemirror_mode": {
    "name": "ipython",
    "version": 3
   },
   "file_extension": ".py",
   "mimetype": "text/x-python",
   "name": "python",
   "nbconvert_exporter": "python",
   "pygments_lexer": "ipython3",
   "version": "3.6.8"
  },
  "toc": {
   "base_numbering": 1,
   "nav_menu": {},
   "number_sections": false,
   "sideBar": true,
   "skip_h1_title": false,
   "title_cell": "Table of Contents",
   "title_sidebar": "Contents",
   "toc_cell": false,
   "toc_position": {},
   "toc_section_display": true,
   "toc_window_display": false
  },
  "varInspector": {
   "cols": {
    "lenName": 16,
    "lenType": 16,
    "lenVar": 40
   },
   "kernels_config": {
    "python": {
     "delete_cmd_postfix": "",
     "delete_cmd_prefix": "del ",
     "library": "var_list.py",
     "varRefreshCmd": "print(var_dic_list())"
    },
    "r": {
     "delete_cmd_postfix": ") ",
     "delete_cmd_prefix": "rm(",
     "library": "var_list.r",
     "varRefreshCmd": "cat(var_dic_list()) "
    }
   },
   "types_to_exclude": [
    "module",
    "function",
    "builtin_function_or_method",
    "instance",
    "_Feature"
   ],
   "window_display": false
  }
 },
 "nbformat": 4,
 "nbformat_minor": 2
}
