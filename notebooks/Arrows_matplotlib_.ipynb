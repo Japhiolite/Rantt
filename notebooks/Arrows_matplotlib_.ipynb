{
 "cells": [
  {
   "cell_type": "code",
   "execution_count": 25,
   "metadata": {},
   "outputs": [
    {
     "data": {
      "image/png": "[encoded data removed]",
      "text/plain": [
       "<Figure size 576x360 with 30 Axes>"
      ]
     },
     "metadata": {
      "needs_background": "light"
     },
     "output_type": "display_data"
    }
   ],
   "source": [
    "%matplotlib inline\n",
    "import matplotlib.pyplot as plt\n",
    "import matplotlib.patches as mpatches\n",
    "\n",
    "fig = plt.figure(1, figsize=(8,5))\n",
    "fig.clf()\n",
    "from mpl_toolkits.axes_grid.axes_grid import AxesGrid\n",
    "from mpl_toolkits.axes_grid.anchored_artists import AnchoredText\n",
    "\n",
    "#from matplotlib.font_manager import FontProperties\n",
    "\n",
    "def add_at(ax, t, loc=2):\n",
    "    fp = dict(size=8)\n",
    "    _at = AnchoredText(t, loc=loc, prop=fp)\n",
    "    ax.add_artist(_at)\n",
    "    #return _at\n",
    "\n",
    "\n",
    "grid = AxesGrid(fig, 111, (3, 5), label_mode=\"1\", share_all=True)\n",
    "\n",
    "grid[0].set_autoscale_on(False)\n",
    "\n",
    "\n",
    "x1, y1 = 0.3, 0.3\n",
    "x2, y2 = 0.7, 0.7\n",
    "\n",
    "\n",
    "def demo_con_style(ax, connectionstyle, label=None):\n",
    "\n",
    "    if label is None:\n",
    "        label = connectionstyle\n",
    "\n",
    "    x1, y1 = 0.3, 0.2\n",
    "    x2, y2 = 0.8, 0.6\n",
    "\n",
    "    ax.plot([x1, x2], [y1, y2], \".\")\n",
    "    ax.annotate(\"\",\n",
    "                xy=(x1, y1), xycoords='data',\n",
    "                xytext=(x2, y2), textcoords='data',\n",
    "                arrowprops=dict(arrowstyle=\"->\", #linestyle=\"dashed\",\n",
    "                                color=\"0.5\",\n",
    "                                shrinkA=5, shrinkB=5,\n",
    "                                patchA=None,\n",
    "                                patchB=None,\n",
    "                                connectionstyle=connectionstyle,\n",
    "                                ),\n",
    "                )\n",
    "\n",
    "    #add_at(ax, label, loc=2)\n",
    "\n",
    "column = grid.axes_column[0]\n",
    "\n",
    "demo_con_style(column[0], \"angle3,angleA=90,angleB=0\",\n",
    "               label=\"angle3,\\nangleA=90,\\nangleB=0\")\n",
    "demo_con_style(column[1], \"angle3,angleA=0,angleB=90\",\n",
    "               label=\"angle3,\\nangleA=0,\\nangleB=90\")\n",
    "\n",
    "\n",
    "\n",
    "column = grid.axes_column[1]\n",
    "\n",
    "demo_con_style(column[0], \"arc3,rad=0.\")\n",
    "demo_con_style(column[1], \"arc3,rad=0.3\")\n",
    "demo_con_style(column[2], \"arc3,rad=-0.3\")\n",
    "\n",
    "\n",
    "\n",
    "column = grid.axes_column[2]\n",
    "\n",
    "demo_con_style(column[0], \"angle,angleA=-90,angleB=180,rad=0\",\n",
    "               label=\"angle,\\nangleA=-90,\\nangleB=180,\\nrad=0\")\n",
    "demo_con_style(column[1], \"angle,angleA=-90,angleB=180,rad=5\",\n",
    "               label=\"angle,\\nangleA=-90,\\nangleB=180,\\nrad=5\")\n",
    "demo_con_style(column[2], \"angle,angleA=-90,angleB=10,rad=5\",\n",
    "               label=\"angle,\\nangleA=-90,\\nangleB=10,\\nrad=0\")\n",
    "\n",
    "\n",
    "column = grid.axes_column[3]\n",
    "\n",
    "demo_con_style(column[0], \"arc,angleA=-90,angleB=0,armA=30,armB=30,rad=0\",\n",
    "               label=\"arc,\\nangleA=-90,\\nangleB=0,\\narmA=30,\\narmB=30,\\nrad=0\")\n",
    "demo_con_style(column[1], \"arc,angleA=-90,angleB=0,armA=30,armB=30,rad=5\",\n",
    "               label=\"arc,\\nangleA=-90,\\nangleB=0,\\narmA=30,\\narmB=30,\\nrad=5\")\n",
    "demo_con_style(column[2], \"arc,angleA=-90,angleB=0,armA=0,armB=40,rad=0\",\n",
    "               label=\"arc,\\nangleA=-90,\\nangleB=0,\\narmA=0,\\narmB=40,\\nrad=0\")\n",
    "\n",
    "\n",
    "column = grid.axes_column[4]\n",
    "\n",
    "demo_con_style(column[0], \"bar,fraction=0.3\",\n",
    "               label=\"bar,\\nfraction=0.3\")\n",
    "demo_con_style(column[1], \"bar,fraction=-0.3\",\n",
    "               label=\"bar,\\nfraction=-0.3\")\n",
    "demo_con_style(column[2], \"bar,angle=180,fraction=-0.2\",\n",
    "               label=\"bar,\\nangle=180,\\nfraction=-0.2\")\n",
    "\n",
    "\n",
    "#demo_con_style(column[1], \"arc3,rad=0.3\")\n",
    "#demo_con_style(column[2], \"arc3,rad=-0.3\")\n",
    "\n",
    "\n",
    "grid[0].set_xlim(0, 1)\n",
    "grid[0].set_ylim(0, 1)\n",
    "grid.axes_llc.axis[\"bottom\"].toggle(ticklabels=False)\n",
    "grid.axes_llc.axis[\"left\"].toggle(ticklabels=False)\n",
    "fig.subplots_adjust(left=0.05, right=0.95, bottom=0.05, top=0.95)\n",
    "\n",
    "plt.draw()\n",
    "plt.show()\n"
   ]
  },
  {
   "cell_type": "code",
   "execution_count": null,
   "metadata": {},
   "outputs": [],
   "source": []
  }
 ],
 "metadata": {
  "hide_input": false,
  "kernelspec": {
   "display_name": "Python 3",
   "language": "python",
   "name": "python3"
  },
  "language_info": {
   "codemirror_mode": {
    "name": "ipython",
    "version": 3
   },
   "file_extension": ".py",
   "mimetype": "text/x-python",
   "name": "python",
   "nbconvert_exporter": "python",
   "pygments_lexer": "ipython3",
   "version": "3.6.8"
  },
  "varInspector": {
   "cols": {
    "lenName": 16,
    "lenType": 16,
    "lenVar": 40
   },
   "kernels_config": {
    "python": {
     "delete_cmd_postfix": "",
     "delete_cmd_prefix": "del ",
     "library": "var_list.py",
     "varRefreshCmd": "print(var_dic_list())"
    },
    "r": {
     "delete_cmd_postfix": ") ",
     "delete_cmd_prefix": "rm(",
     "library": "var_list.r",
     "varRefreshCmd": "cat(var_dic_list()) "
    }
   },
   "types_to_exclude": [
    "module",
    "function",
    "builtin_function_or_method",
    "instance",
    "_Feature"
   ],
   "window_display": false
  }
 },
 "nbformat": 4,
 "nbformat_minor": 2
}
